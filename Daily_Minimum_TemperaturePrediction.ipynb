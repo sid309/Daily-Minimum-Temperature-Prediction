{
  "nbformat": 4,
  "nbformat_minor": 0,
  "metadata": {
    "colab": {
      "name": "Daily Minimum TemperaturePrediction.ipynb",
      "provenance": []
    },
    "kernelspec": {
      "name": "python3",
      "display_name": "Python 3"
    },
    "language_info": {
      "name": "python"
    },
    "accelerator": "GPU"
  },
  "cells": [
    {
      "cell_type": "code",
      "metadata": {
        "colab": {
          "base_uri": "https://localhost:8080/"
        },
        "id": "0lNxMtqzHyaE",
        "outputId": "a3f0078b-b66a-4ab7-e6e0-9a5248d7f8d5"
      },
      "source": [
        "import tensorflow as tf\n",
        "print(tf.__version__)"
      ],
      "execution_count": 1,
      "outputs": [
        {
          "output_type": "stream",
          "name": "stdout",
          "text": [
            "2.6.0\n"
          ]
        }
      ]
    },
    {
      "cell_type": "code",
      "metadata": {
        "id": "F4c5QcF_LoCn"
      },
      "source": [
        "import numpy as np\n",
        "import matplotlib.pyplot as plt"
      ],
      "execution_count": 2,
      "outputs": []
    },
    {
      "cell_type": "code",
      "metadata": {
        "id": "wfBYbfv6LEMv"
      },
      "source": [
        "def plot_series(time,series,format='-',start=0,end=None):\n",
        "  plt.plot(time[start:end],series[start:end],format)\n",
        "  plt.xlabel('Time')\n",
        "  plt.ylabel('Value')\n",
        "  plt.grid(True)"
      ],
      "execution_count": 3,
      "outputs": []
    },
    {
      "cell_type": "code",
      "metadata": {
        "colab": {
          "base_uri": "https://localhost:8080/"
        },
        "id": "uNfVV-hFLfIJ",
        "outputId": "75676607-3de2-46a1-b6e4-c31c98af2ab9"
      },
      "source": [
        "!wget --no-check-certificate \\\n",
        "    https://raw.githubusercontent.com/jbrownlee/Datasets/master/daily-min-temperatures.csv \\\n",
        "    -O /tmp/daily-min-temperatures.csv"
      ],
      "execution_count": 4,
      "outputs": [
        {
          "output_type": "stream",
          "name": "stdout",
          "text": [
            "--2021-09-02 07:17:00--  https://raw.githubusercontent.com/jbrownlee/Datasets/master/daily-min-temperatures.csv\n",
            "Resolving raw.githubusercontent.com (raw.githubusercontent.com)... 185.199.110.133, 185.199.108.133, 185.199.109.133, ...\n",
            "Connecting to raw.githubusercontent.com (raw.githubusercontent.com)|185.199.110.133|:443... connected.\n",
            "HTTP request sent, awaiting response... 200 OK\n",
            "Length: 67921 (66K) [text/plain]\n",
            "Saving to: ‘/tmp/daily-min-temperatures.csv’\n",
            "\n",
            "\r          /tmp/dail   0%[                    ]       0  --.-KB/s               \r/tmp/daily-min-temp 100%[===================>]  66.33K  --.-KB/s    in 0.01s   \n",
            "\n",
            "2021-09-02 07:17:00 (5.59 MB/s) - ‘/tmp/daily-min-temperatures.csv’ saved [67921/67921]\n",
            "\n"
          ]
        }
      ]
    },
    {
      "cell_type": "code",
      "metadata": {
        "id": "voYV86eHMCrV"
      },
      "source": [
        "import csv\n",
        "import pandas as pd"
      ],
      "execution_count": 5,
      "outputs": []
    },
    {
      "cell_type": "code",
      "metadata": {
        "id": "KxKhr0ISME6l"
      },
      "source": [
        "time_steps=[]\n",
        "temps=[]"
      ],
      "execution_count": 6,
      "outputs": []
    },
    {
      "cell_type": "code",
      "metadata": {
        "colab": {
          "base_uri": "https://localhost:8080/",
          "height": 204
        },
        "id": "uzjcnn6qODr5",
        "outputId": "379f434b-bab5-4a35-b52f-cc12234e2c4e"
      },
      "source": [
        "df=pd.read_csv('/tmp/daily-min-temperatures.csv',delimiter=',')\n",
        "df.head()"
      ],
      "execution_count": 7,
      "outputs": [
        {
          "output_type": "execute_result",
          "data": {
            "text/html": [
              "<div>\n",
              "<style scoped>\n",
              "    .dataframe tbody tr th:only-of-type {\n",
              "        vertical-align: middle;\n",
              "    }\n",
              "\n",
              "    .dataframe tbody tr th {\n",
              "        vertical-align: top;\n",
              "    }\n",
              "\n",
              "    .dataframe thead th {\n",
              "        text-align: right;\n",
              "    }\n",
              "</style>\n",
              "<table border=\"1\" class=\"dataframe\">\n",
              "  <thead>\n",
              "    <tr style=\"text-align: right;\">\n",
              "      <th></th>\n",
              "      <th>Date</th>\n",
              "      <th>Temp</th>\n",
              "    </tr>\n",
              "  </thead>\n",
              "  <tbody>\n",
              "    <tr>\n",
              "      <th>0</th>\n",
              "      <td>1981-01-01</td>\n",
              "      <td>20.7</td>\n",
              "    </tr>\n",
              "    <tr>\n",
              "      <th>1</th>\n",
              "      <td>1981-01-02</td>\n",
              "      <td>17.9</td>\n",
              "    </tr>\n",
              "    <tr>\n",
              "      <th>2</th>\n",
              "      <td>1981-01-03</td>\n",
              "      <td>18.8</td>\n",
              "    </tr>\n",
              "    <tr>\n",
              "      <th>3</th>\n",
              "      <td>1981-01-04</td>\n",
              "      <td>14.6</td>\n",
              "    </tr>\n",
              "    <tr>\n",
              "      <th>4</th>\n",
              "      <td>1981-01-05</td>\n",
              "      <td>15.8</td>\n",
              "    </tr>\n",
              "  </tbody>\n",
              "</table>\n",
              "</div>"
            ],
            "text/plain": [
              "         Date  Temp\n",
              "0  1981-01-01  20.7\n",
              "1  1981-01-02  17.9\n",
              "2  1981-01-03  18.8\n",
              "3  1981-01-04  14.6\n",
              "4  1981-01-05  15.8"
            ]
          },
          "metadata": {},
          "execution_count": 7
        }
      ]
    },
    {
      "cell_type": "code",
      "metadata": {
        "colab": {
          "base_uri": "https://localhost:8080/",
          "height": 388
        },
        "id": "X3n97ymuMHo3",
        "outputId": "309e4aa6-6ebd-42f3-daec-ef37660d8165"
      },
      "source": [
        "with open('/tmp/daily-min-temperatures.csv') as csvfile:\n",
        "  reader=csv.reader(csvfile,delimiter=',')\n",
        "  next(reader)\n",
        "  step=0\n",
        "  for row in reader:\n",
        "    temps.append(float(row[1]))\n",
        "    time_steps.append(step)\n",
        "    step+=1\n",
        "\n",
        "series=np.array(temps)\n",
        "time=np.array(time_steps)\n",
        "plt.figure(figsize=(10, 6))\n",
        "plot_series(time, series)"
      ],
      "execution_count": 8,
      "outputs": [
        {
          "output_type": "display_data",
          "data": {
            "image/png": "[encoded data removed]",
            "text/plain": [
              "<Figure size 720x432 with 1 Axes>"
            ]
          },
          "metadata": {
            "needs_background": "light"
          }
        }
      ]
    },
    {
      "cell_type": "code",
      "metadata": {
        "id": "unbRrXlcOyLw"
      },
      "source": [
        "split_time=2500\n",
        "time_train=time[:split_time]\n",
        "x_train=series[:split_time]\n",
        "time_valid=time[split_time:]\n",
        "x_valid=series[split_time:]\n",
        "window_size=30\n",
        "batch_size=32\n",
        "shuffle_buffer_size=1000"
      ],
      "execution_count": 9,
      "outputs": []
    },
    {
      "cell_type": "code",
      "metadata": {
        "id": "ifp_CPwJPhKO"
      },
      "source": [
        "def windowed_dataset(series, window_size, batch_size, shuffle_buffer):\n",
        "  series = tf.expand_dims(series, axis=-1)\n",
        "  dataset=tf.data.Dataset.from_tensor_slices(series)\n",
        "  dataset=dataset.window(window_size+1,shift=1,drop_remainder=True)\n",
        "  dataset=dataset.flat_map(lambda window:window.batch(window_size+1))\n",
        "  dataset=dataset.shuffle(shuffle_buffer_size)\n",
        "  dataset=dataset.map(lambda w: (w[:-1],w[-1]))\n",
        "  return dataset.batch(batch_size).prefetch(1)"
      ],
      "execution_count": 10,
      "outputs": []
    },
    {
      "cell_type": "code",
      "metadata": {
        "id": "oQqTEhxiRIFr"
      },
      "source": [
        "def model_forecast(model, series, window_size):\n",
        "  dataset=tf.data.Dataset.from_tensor_slices(series)\n",
        "  dataset=dataset.window(window_size,shift=1,drop_remainder=True)\n",
        "  dataset=dataset.flat_map(lambda w:w.batch(window_size))\n",
        "  dataset=dataset.batch(32).prefetch(1)\n",
        "  forecast=model.predict(dataset)\n",
        "  return forecast"
      ],
      "execution_count": 11,
      "outputs": []
    },
    {
      "cell_type": "code",
      "metadata": {
        "colab": {
          "base_uri": "https://localhost:8080/"
        },
        "id": "FplSIHKLSfb7",
        "outputId": "dd2ddca9-4720-4529-e69f-6f417159ea18"
      },
      "source": [
        "tf.keras.backend.clear_session()\n",
        "tf.random.set_seed(51)\n",
        "np.random.seed(51)\n",
        "window_size=64\n",
        "batch_size=256\n",
        "train_set=windowed_dataset(x_train, window_size, batch_size, shuffle_buffer_size)\n",
        "print(train_set)\n",
        "print(x_train.shape)"
      ],
      "execution_count": 12,
      "outputs": [
        {
          "output_type": "stream",
          "name": "stdout",
          "text": [
            "<PrefetchDataset shapes: ((None, None, 1), (None, 1)), types: (tf.float64, tf.float64)>\n",
            "(2500,)\n"
          ]
        }
      ]
    },
    {
      "cell_type": "code",
      "metadata": {
        "id": "gW8V8K9_SkI9"
      },
      "source": [
        "model = tf.keras.models.Sequential([\n",
        "                                    tf.keras.layers.Conv1D(32,5,padding='causal',strides=1,activation='relu',input_shape=[None,1]),\n",
        "                                    tf.keras.layers.LSTM(64,return_sequences=True),\n",
        "                                    tf.keras.layers.LSTM(64,return_sequences=True),\n",
        "                                    tf.keras.layers.Dense(30,activation='relu'),\n",
        "                                    tf.keras.layers.Dense(10,activation='relu'),\n",
        "                                    tf.keras.layers.Dense(1),\n",
        "                                    tf.keras.layers.Lambda(lambda x:x*400)\n",
        "])"
      ],
      "execution_count": 13,
      "outputs": []
    },
    {
      "cell_type": "code",
      "metadata": {
        "colab": {
          "base_uri": "https://localhost:8080/"
        },
        "id": "s7eJo-36TfQU",
        "outputId": "b0791c86-e8ff-474e-b5ae-c158534661b0"
      },
      "source": [
        "model.summary()"
      ],
      "execution_count": 14,
      "outputs": [
        {
          "output_type": "stream",
          "name": "stdout",
          "text": [
            "Model: \"sequential\"\n",
            "_________________________________________________________________\n",
            "Layer (type)                 Output Shape              Param #   \n",
            "=================================================================\n",
            "conv1d (Conv1D)              (None, None, 32)          192       \n",
            "_________________________________________________________________\n",
            "lstm (LSTM)                  (None, None, 64)          24832     \n",
            "_________________________________________________________________\n",
            "lstm_1 (LSTM)                (None, None, 64)          33024     \n",
            "_________________________________________________________________\n",
            "dense (Dense)                (None, None, 30)          1950      \n",
            "_________________________________________________________________\n",
            "dense_1 (Dense)              (None, None, 10)          310       \n",
            "_________________________________________________________________\n",
            "dense_2 (Dense)              (None, None, 1)           11        \n",
            "_________________________________________________________________\n",
            "lambda (Lambda)              (None, None, 1)           0         \n",
            "=================================================================\n",
            "Total params: 60,319\n",
            "Trainable params: 60,319\n",
            "Non-trainable params: 0\n",
            "_________________________________________________________________\n"
          ]
        }
      ]
    },
    {
      "cell_type": "code",
      "metadata": {
        "colab": {
          "base_uri": "https://localhost:8080/"
        },
        "id": "-UNyLncKT6z6",
        "outputId": "745ecc26-b67c-4060-fe86-67ac1265faa2"
      },
      "source": [
        "lr_schedule=tf.keras.callbacks.LearningRateScheduler(lambda epoch: 1e-8 * 10**(epoch / 20))\n",
        "optimizer=tf.keras.optimizers.SGD(learning_rate=1e-8, momentum=0.9)\n",
        "model.compile(loss=tf.keras.losses.Huber(),optimizer=optimizer,metrics=[\"mae\"])\n",
        "history=model.fit(train_set, epochs=100, callbacks=[lr_schedule])"
      ],
      "execution_count": 15,
      "outputs": [
        {
          "output_type": "stream",
          "name": "stdout",
          "text": [
            "Epoch 1/100\n",
            "10/10 [==============================] - 6s 52ms/step - loss: 31.1418 - mae: 31.6401\n",
            "Epoch 2/100\n",
            "10/10 [==============================] - 1s 57ms/step - loss: 30.5657 - mae: 31.0639\n",
            "Epoch 3/100\n",
            "10/10 [==============================] - 1s 55ms/step - loss: 29.6745 - mae: 30.1726\n",
            "Epoch 4/100\n",
            "10/10 [==============================] - 1s 59ms/step - loss: 28.5571 - mae: 29.0549\n",
            "Epoch 5/100\n",
            "10/10 [==============================] - 1s 56ms/step - loss: 27.1948 - mae: 27.6923\n",
            "Epoch 6/100\n",
            "10/10 [==============================] - 1s 58ms/step - loss: 25.4979 - mae: 25.9952\n",
            "Epoch 7/100\n",
            "10/10 [==============================] - 1s 58ms/step - loss: 23.3389 - mae: 23.8356\n",
            "Epoch 8/100\n",
            "10/10 [==============================] - 1s 58ms/step - loss: 20.5994 - mae: 21.0955\n",
            "Epoch 9/100\n",
            "10/10 [==============================] - 1s 54ms/step - loss: 17.2908 - mae: 17.7857\n",
            "Epoch 10/100\n",
            "10/10 [==============================] - 1s 58ms/step - loss: 13.6041 - mae: 14.0968\n",
            "Epoch 11/100\n",
            "10/10 [==============================] - 1s 55ms/step - loss: 10.0206 - mae: 10.5085\n",
            "Epoch 12/100\n",
            "10/10 [==============================] - 1s 55ms/step - loss: 7.4651 - mae: 7.9498\n",
            "Epoch 13/100\n",
            "10/10 [==============================] - 1s 56ms/step - loss: 6.1468 - mae: 6.6309\n",
            "Epoch 14/100\n",
            "10/10 [==============================] - 1s 56ms/step - loss: 5.6191 - mae: 6.1022\n",
            "Epoch 15/100\n",
            "10/10 [==============================] - 1s 54ms/step - loss: 5.3044 - mae: 5.7859\n",
            "Epoch 16/100\n",
            "10/10 [==============================] - 1s 56ms/step - loss: 4.9646 - mae: 5.4444\n",
            "Epoch 17/100\n",
            "10/10 [==============================] - 1s 60ms/step - loss: 4.6499 - mae: 5.1280\n",
            "Epoch 18/100\n",
            "10/10 [==============================] - 1s 60ms/step - loss: 4.3823 - mae: 4.8587\n",
            "Epoch 19/100\n",
            "10/10 [==============================] - 1s 58ms/step - loss: 4.1549 - mae: 4.6301\n",
            "Epoch 20/100\n",
            "10/10 [==============================] - 1s 58ms/step - loss: 3.9764 - mae: 4.4508\n",
            "Epoch 21/100\n",
            "10/10 [==============================] - 1s 59ms/step - loss: 3.8472 - mae: 4.3210\n",
            "Epoch 22/100\n",
            "10/10 [==============================] - 1s 59ms/step - loss: 3.7497 - mae: 4.2230\n",
            "Epoch 23/100\n",
            "10/10 [==============================] - 1s 57ms/step - loss: 3.6775 - mae: 4.1504\n",
            "Epoch 24/100\n",
            "10/10 [==============================] - 1s 59ms/step - loss: 3.6215 - mae: 4.0940\n",
            "Epoch 25/100\n",
            "10/10 [==============================] - 1s 59ms/step - loss: 3.5693 - mae: 4.0412\n",
            "Epoch 26/100\n",
            "10/10 [==============================] - 1s 55ms/step - loss: 3.5266 - mae: 3.9982\n",
            "Epoch 27/100\n",
            "10/10 [==============================] - 1s 61ms/step - loss: 3.4763 - mae: 3.9475\n",
            "Epoch 28/100\n",
            "10/10 [==============================] - 1s 59ms/step - loss: 3.4323 - mae: 3.9033\n",
            "Epoch 29/100\n",
            "10/10 [==============================] - 1s 58ms/step - loss: 3.3831 - mae: 3.8536\n",
            "Epoch 30/100\n",
            "10/10 [==============================] - 1s 57ms/step - loss: 3.3351 - mae: 3.8052\n",
            "Epoch 31/100\n",
            "10/10 [==============================] - 1s 58ms/step - loss: 3.2897 - mae: 3.7595\n",
            "Epoch 32/100\n",
            "10/10 [==============================] - 1s 57ms/step - loss: 3.2432 - mae: 3.7126\n",
            "Epoch 33/100\n",
            "10/10 [==============================] - 1s 60ms/step - loss: 3.1847 - mae: 3.6537\n",
            "Epoch 34/100\n",
            "10/10 [==============================] - 1s 56ms/step - loss: 3.1431 - mae: 3.6116\n",
            "Epoch 35/100\n",
            "10/10 [==============================] - 1s 58ms/step - loss: 3.0881 - mae: 3.5562\n",
            "Epoch 36/100\n",
            "10/10 [==============================] - 1s 59ms/step - loss: 3.0438 - mae: 3.5115\n",
            "Epoch 37/100\n",
            "10/10 [==============================] - 1s 58ms/step - loss: 2.9968 - mae: 3.4639\n",
            "Epoch 38/100\n",
            "10/10 [==============================] - 1s 57ms/step - loss: 2.9546 - mae: 3.4214\n",
            "Epoch 39/100\n",
            "10/10 [==============================] - 1s 56ms/step - loss: 2.9095 - mae: 3.3757\n",
            "Epoch 40/100\n",
            "10/10 [==============================] - 1s 58ms/step - loss: 2.8767 - mae: 3.3429\n",
            "Epoch 41/100\n",
            "10/10 [==============================] - 1s 58ms/step - loss: 2.8714 - mae: 3.3383\n",
            "Epoch 42/100\n",
            "10/10 [==============================] - 1s 59ms/step - loss: 2.7861 - mae: 3.2513\n",
            "Epoch 43/100\n",
            "10/10 [==============================] - 1s 57ms/step - loss: 2.7543 - mae: 3.2195\n",
            "Epoch 44/100\n",
            "10/10 [==============================] - 1s 57ms/step - loss: 2.7165 - mae: 3.1806\n",
            "Epoch 45/100\n",
            "10/10 [==============================] - 1s 57ms/step - loss: 2.7127 - mae: 3.1776\n",
            "Epoch 46/100\n",
            "10/10 [==============================] - 1s 60ms/step - loss: 2.6474 - mae: 3.1120\n",
            "Epoch 47/100\n",
            "10/10 [==============================] - 1s 58ms/step - loss: 2.6085 - mae: 3.0713\n",
            "Epoch 48/100\n",
            "10/10 [==============================] - 1s 61ms/step - loss: 2.5747 - mae: 3.0376\n",
            "Epoch 49/100\n",
            "10/10 [==============================] - 1s 57ms/step - loss: 2.5338 - mae: 2.9966\n",
            "Epoch 50/100\n",
            "10/10 [==============================] - 1s 56ms/step - loss: 2.5562 - mae: 3.0195\n",
            "Epoch 51/100\n",
            "10/10 [==============================] - 1s 61ms/step - loss: 2.5759 - mae: 3.0400\n",
            "Epoch 52/100\n",
            "10/10 [==============================] - 1s 61ms/step - loss: 2.4854 - mae: 2.9475\n",
            "Epoch 53/100\n",
            "10/10 [==============================] - 1s 59ms/step - loss: 2.4569 - mae: 2.9181\n",
            "Epoch 54/100\n",
            "10/10 [==============================] - 1s 58ms/step - loss: 2.4787 - mae: 2.9414\n",
            "Epoch 55/100\n",
            "10/10 [==============================] - 1s 59ms/step - loss: 2.4224 - mae: 2.8831\n",
            "Epoch 56/100\n",
            "10/10 [==============================] - 1s 56ms/step - loss: 2.5085 - mae: 2.9714\n",
            "Epoch 57/100\n",
            "10/10 [==============================] - 1s 58ms/step - loss: 2.5131 - mae: 2.9765\n",
            "Epoch 58/100\n",
            "10/10 [==============================] - 1s 57ms/step - loss: 2.5454 - mae: 3.0102\n",
            "Epoch 59/100\n",
            "10/10 [==============================] - 1s 55ms/step - loss: 2.6319 - mae: 3.0967\n",
            "Epoch 60/100\n",
            "10/10 [==============================] - 1s 59ms/step - loss: 2.6299 - mae: 3.0951\n",
            "Epoch 61/100\n",
            "10/10 [==============================] - 1s 60ms/step - loss: 2.8612 - mae: 3.3288\n",
            "Epoch 62/100\n",
            "10/10 [==============================] - 1s 56ms/step - loss: 2.7827 - mae: 3.2476\n",
            "Epoch 63/100\n",
            "10/10 [==============================] - 1s 57ms/step - loss: 3.2960 - mae: 3.7692\n",
            "Epoch 64/100\n",
            "10/10 [==============================] - 1s 56ms/step - loss: 3.4847 - mae: 3.9578\n",
            "Epoch 65/100\n",
            "10/10 [==============================] - 1s 56ms/step - loss: 3.7856 - mae: 4.2611\n",
            "Epoch 66/100\n",
            "10/10 [==============================] - 1s 57ms/step - loss: 4.4109 - mae: 4.8945\n",
            "Epoch 67/100\n",
            "10/10 [==============================] - 1s 59ms/step - loss: 4.9257 - mae: 5.4127\n",
            "Epoch 68/100\n",
            "10/10 [==============================] - 1s 57ms/step - loss: 5.1350 - mae: 5.6227\n",
            "Epoch 69/100\n",
            "10/10 [==============================] - 1s 58ms/step - loss: 4.9219 - mae: 5.4062\n",
            "Epoch 70/100\n",
            "10/10 [==============================] - 1s 57ms/step - loss: 5.3431 - mae: 5.8305\n",
            "Epoch 71/100\n",
            "10/10 [==============================] - 1s 55ms/step - loss: 4.7178 - mae: 5.1933\n",
            "Epoch 72/100\n",
            "10/10 [==============================] - 1s 54ms/step - loss: 11.6540 - mae: 12.1447\n",
            "Epoch 73/100\n",
            "10/10 [==============================] - 1s 57ms/step - loss: 17.1901 - mae: 17.6852\n",
            "Epoch 74/100\n",
            "10/10 [==============================] - 1s 55ms/step - loss: 4.2594 - mae: 4.7354\n",
            "Epoch 75/100\n",
            "10/10 [==============================] - 1s 56ms/step - loss: 2.9921 - mae: 3.4614\n",
            "Epoch 76/100\n",
            "10/10 [==============================] - 1s 57ms/step - loss: 2.6384 - mae: 3.1022\n",
            "Epoch 77/100\n",
            "10/10 [==============================] - 1s 55ms/step - loss: 2.6157 - mae: 3.0809\n",
            "Epoch 78/100\n",
            "10/10 [==============================] - 1s 55ms/step - loss: 2.7399 - mae: 3.2058\n",
            "Epoch 79/100\n",
            "10/10 [==============================] - 1s 57ms/step - loss: 2.6704 - mae: 3.1341\n",
            "Epoch 80/100\n",
            "10/10 [==============================] - 1s 57ms/step - loss: 2.8949 - mae: 3.3652\n",
            "Epoch 81/100\n",
            "10/10 [==============================] - 1s 56ms/step - loss: 3.4552 - mae: 3.9304\n",
            "Epoch 82/100\n",
            "10/10 [==============================] - 1s 58ms/step - loss: 3.2728 - mae: 3.7479\n",
            "Epoch 83/100\n",
            "10/10 [==============================] - 1s 57ms/step - loss: 4.1246 - mae: 4.6058\n",
            "Epoch 84/100\n",
            "10/10 [==============================] - 1s 57ms/step - loss: 4.7468 - mae: 5.2329\n",
            "Epoch 85/100\n",
            "10/10 [==============================] - 1s 58ms/step - loss: 5.9585 - mae: 6.4509\n",
            "Epoch 86/100\n",
            "10/10 [==============================] - 1s 56ms/step - loss: 6.3721 - mae: 6.8637\n",
            "Epoch 87/100\n",
            "10/10 [==============================] - 1s 55ms/step - loss: 6.9983 - mae: 7.4829\n",
            "Epoch 88/100\n",
            "10/10 [==============================] - 1s 60ms/step - loss: 22.6155 - mae: 23.1105\n",
            "Epoch 89/100\n",
            "10/10 [==============================] - 1s 56ms/step - loss: 36.3708 - mae: 36.8708\n",
            "Epoch 90/100\n",
            "10/10 [==============================] - 1s 58ms/step - loss: 36.8348 - mae: 37.3332\n",
            "Epoch 91/100\n",
            "10/10 [==============================] - 1s 55ms/step - loss: 33.4885 - mae: 33.9851\n",
            "Epoch 92/100\n",
            "10/10 [==============================] - 1s 56ms/step - loss: 64.5710 - mae: 65.0680\n",
            "Epoch 93/100\n",
            "10/10 [==============================] - 1s 59ms/step - loss: 108.9672 - mae: 109.4672\n",
            "Epoch 94/100\n",
            "10/10 [==============================] - 1s 57ms/step - loss: 53.9904 - mae: 54.4904\n",
            "Epoch 95/100\n",
            "10/10 [==============================] - 1s 56ms/step - loss: 77.7641 - mae: 78.2628\n",
            "Epoch 96/100\n",
            "10/10 [==============================] - 1s 57ms/step - loss: 71.2001 - mae: 71.7000\n",
            "Epoch 97/100\n",
            "10/10 [==============================] - 1s 56ms/step - loss: 68.1277 - mae: 68.6220\n",
            "Epoch 98/100\n",
            "10/10 [==============================] - 1s 60ms/step - loss: 66.9979 - mae: 67.4979\n",
            "Epoch 99/100\n",
            "10/10 [==============================] - 1s 56ms/step - loss: 129.5829 - mae: 130.0829\n",
            "Epoch 100/100\n",
            "10/10 [==============================] - 1s 57ms/step - loss: 137.2562 - mae: 137.7562\n"
          ]
        }
      ]
    },
    {
      "cell_type": "code",
      "metadata": {
        "colab": {
          "base_uri": "https://localhost:8080/",
          "height": 291
        },
        "id": "B7cMEIoZXU8L",
        "outputId": "1cb19037-d187-468d-bad5-48756f3a9496"
      },
      "source": [
        "plt.semilogx(history.history[\"lr\"], history.history[\"loss\"])\n",
        "plt.axis([1e-8, 1e-4, 0, 60])"
      ],
      "execution_count": 16,
      "outputs": [
        {
          "output_type": "execute_result",
          "data": {
            "text/plain": [
              "(1e-08, 0.0001, 0.0, 60.0)"
            ]
          },
          "metadata": {},
          "execution_count": 16
        },
        {
          "output_type": "display_data",
          "data": {
            "image/png": "[encoded data removed]",
            "text/plain": [
              "<Figure size 432x288 with 1 Axes>"
            ]
          },
          "metadata": {
            "needs_background": "light"
          }
        }
      ]
    },
    {
      "cell_type": "code",
      "metadata": {
        "colab": {
          "base_uri": "https://localhost:8080/"
        },
        "id": "lKozcYC0XdJs",
        "outputId": "01f9e5a0-90ef-49d3-e089-14a930d72079"
      },
      "source": [
        "tf.keras.backend.clear_session()\n",
        "tf.random.set_seed(51)\n",
        "np.random.seed(51)\n",
        "train_set = windowed_dataset(x_train, window_size=60, batch_size=100, shuffle_buffer=shuffle_buffer_size)\n",
        "model = tf.keras.models.Sequential([\n",
        "                                    tf.keras.layers.Conv1D(60,5,padding='causal',strides=1,activation='relu',input_shape=[None,1]),\n",
        "                                    tf.keras.layers.LSTM(6,return_sequences=True),\n",
        "                                    tf.keras.layers.LSTM(6,return_sequences=True),\n",
        "                                    tf.keras.layers.Dense(30,activation='relu'),\n",
        "                                    tf.keras.layers.Dense(10,activation='relu'),\n",
        "                                    tf.keras.layers.Dense(1),\n",
        "                                    tf.keras.layers.Lambda(lambda x:x*400)\n",
        "])\n",
        "\n",
        "\n",
        "optimizer = tf.keras.optimizers.SGD(learning_rate=1e-5,momentum=0.9)\n",
        "model.compile(loss=tf.keras.losses.Huber(),optimizer=optimizer,metrics=[\"mae\"])\n",
        "history = model.fit(train_set,epochs=150)"
      ],
      "execution_count": 17,
      "outputs": [
        {
          "output_type": "stream",
          "name": "stdout",
          "text": [
            "Epoch 1/150\n",
            "25/25 [==============================] - 5s 32ms/step - loss: 7.1091 - mae: 7.5928\n",
            "Epoch 2/150\n",
            "25/25 [==============================] - 1s 32ms/step - loss: 2.9701 - mae: 3.4387\n",
            "Epoch 3/150\n",
            "25/25 [==============================] - 1s 31ms/step - loss: 2.4639 - mae: 2.9258\n",
            "Epoch 4/150\n",
            "25/25 [==============================] - 1s 33ms/step - loss: 2.3808 - mae: 2.8419\n",
            "Epoch 5/150\n",
            "25/25 [==============================] - 1s 33ms/step - loss: 2.4096 - mae: 2.8716\n",
            "Epoch 6/150\n",
            "25/25 [==============================] - 1s 32ms/step - loss: 2.4394 - mae: 2.9017\n",
            "Epoch 7/150\n",
            "25/25 [==============================] - 1s 33ms/step - loss: 2.4945 - mae: 2.9569\n",
            "Epoch 8/150\n",
            "25/25 [==============================] - 1s 32ms/step - loss: 2.2997 - mae: 2.7591\n",
            "Epoch 9/150\n",
            "25/25 [==============================] - 1s 31ms/step - loss: 2.2903 - mae: 2.7493\n",
            "Epoch 10/150\n",
            "25/25 [==============================] - 1s 33ms/step - loss: 2.3048 - mae: 2.7634\n",
            "Epoch 11/150\n",
            "25/25 [==============================] - 1s 32ms/step - loss: 2.2921 - mae: 2.7516\n",
            "Epoch 12/150\n",
            "25/25 [==============================] - 1s 32ms/step - loss: 2.2701 - mae: 2.7287\n",
            "Epoch 13/150\n",
            "25/25 [==============================] - 1s 32ms/step - loss: 2.3181 - mae: 2.7772\n",
            "Epoch 14/150\n",
            "25/25 [==============================] - 1s 32ms/step - loss: 2.2669 - mae: 2.7258\n",
            "Epoch 15/150\n",
            "25/25 [==============================] - 1s 32ms/step - loss: 2.3584 - mae: 2.8190\n",
            "Epoch 16/150\n",
            "25/25 [==============================] - 1s 32ms/step - loss: 2.2792 - mae: 2.7381\n",
            "Epoch 17/150\n",
            "25/25 [==============================] - 1s 33ms/step - loss: 2.4337 - mae: 2.8966\n",
            "Epoch 18/150\n",
            "25/25 [==============================] - 1s 32ms/step - loss: 2.2884 - mae: 2.7474\n",
            "Epoch 19/150\n",
            "25/25 [==============================] - 1s 33ms/step - loss: 2.3174 - mae: 2.7781\n",
            "Epoch 20/150\n",
            "25/25 [==============================] - 1s 32ms/step - loss: 2.2759 - mae: 2.7348\n",
            "Epoch 21/150\n",
            "25/25 [==============================] - 1s 32ms/step - loss: 2.2694 - mae: 2.7286\n",
            "Epoch 22/150\n",
            "25/25 [==============================] - 1s 33ms/step - loss: 2.2357 - mae: 2.6943\n",
            "Epoch 23/150\n",
            "25/25 [==============================] - 1s 34ms/step - loss: 2.2978 - mae: 2.7575\n",
            "Epoch 24/150\n",
            "25/25 [==============================] - 1s 32ms/step - loss: 2.2454 - mae: 2.7037\n",
            "Epoch 25/150\n",
            "25/25 [==============================] - 1s 33ms/step - loss: 2.2647 - mae: 2.7232\n",
            "Epoch 26/150\n",
            "25/25 [==============================] - 1s 33ms/step - loss: 2.2648 - mae: 2.7229\n",
            "Epoch 27/150\n",
            "25/25 [==============================] - 1s 33ms/step - loss: 2.2921 - mae: 2.7505\n",
            "Epoch 28/150\n",
            "25/25 [==============================] - 1s 32ms/step - loss: 2.2471 - mae: 2.7064\n",
            "Epoch 29/150\n",
            "25/25 [==============================] - 1s 32ms/step - loss: 2.2545 - mae: 2.7137\n",
            "Epoch 30/150\n",
            "25/25 [==============================] - 1s 32ms/step - loss: 2.3231 - mae: 2.7842\n",
            "Epoch 31/150\n",
            "25/25 [==============================] - 1s 32ms/step - loss: 2.3537 - mae: 2.8159\n",
            "Epoch 32/150\n",
            "25/25 [==============================] - 1s 32ms/step - loss: 2.3383 - mae: 2.7986\n",
            "Epoch 33/150\n",
            "25/25 [==============================] - 1s 32ms/step - loss: 2.2287 - mae: 2.6865\n",
            "Epoch 34/150\n",
            "25/25 [==============================] - 1s 32ms/step - loss: 2.2928 - mae: 2.7520\n",
            "Epoch 35/150\n",
            "25/25 [==============================] - 1s 32ms/step - loss: 2.2393 - mae: 2.6983\n",
            "Epoch 36/150\n",
            "25/25 [==============================] - 1s 33ms/step - loss: 2.2018 - mae: 2.6592\n",
            "Epoch 37/150\n",
            "25/25 [==============================] - 1s 33ms/step - loss: 2.2144 - mae: 2.6722\n",
            "Epoch 38/150\n",
            "25/25 [==============================] - 1s 33ms/step - loss: 2.3300 - mae: 2.7900\n",
            "Epoch 39/150\n",
            "25/25 [==============================] - 1s 32ms/step - loss: 2.2982 - mae: 2.7584\n",
            "Epoch 40/150\n",
            "25/25 [==============================] - 1s 33ms/step - loss: 2.2548 - mae: 2.7149\n",
            "Epoch 41/150\n",
            "25/25 [==============================] - 1s 33ms/step - loss: 2.2683 - mae: 2.7271\n",
            "Epoch 42/150\n",
            "25/25 [==============================] - 1s 33ms/step - loss: 2.2462 - mae: 2.7065\n",
            "Epoch 43/150\n",
            "25/25 [==============================] - 1s 32ms/step - loss: 2.2696 - mae: 2.7283\n",
            "Epoch 44/150\n",
            "25/25 [==============================] - 1s 33ms/step - loss: 2.2237 - mae: 2.6821\n",
            "Epoch 45/150\n",
            "25/25 [==============================] - 1s 32ms/step - loss: 2.2942 - mae: 2.7541\n",
            "Epoch 46/150\n",
            "25/25 [==============================] - 1s 32ms/step - loss: 2.2260 - mae: 2.6851\n",
            "Epoch 47/150\n",
            "25/25 [==============================] - 1s 33ms/step - loss: 2.2404 - mae: 2.6985\n",
            "Epoch 48/150\n",
            "25/25 [==============================] - 1s 32ms/step - loss: 2.2682 - mae: 2.7279\n",
            "Epoch 49/150\n",
            "25/25 [==============================] - 1s 32ms/step - loss: 2.2360 - mae: 2.6947\n",
            "Epoch 50/150\n",
            "25/25 [==============================] - 1s 33ms/step - loss: 2.2863 - mae: 2.7455\n",
            "Epoch 51/150\n",
            "25/25 [==============================] - 1s 34ms/step - loss: 2.2733 - mae: 2.7332\n",
            "Epoch 52/150\n",
            "25/25 [==============================] - 1s 33ms/step - loss: 2.4293 - mae: 2.8928\n",
            "Epoch 53/150\n",
            "25/25 [==============================] - 1s 34ms/step - loss: 2.2230 - mae: 2.6820\n",
            "Epoch 54/150\n",
            "25/25 [==============================] - 1s 33ms/step - loss: 2.2448 - mae: 2.7038\n",
            "Epoch 55/150\n",
            "25/25 [==============================] - 1s 33ms/step - loss: 2.2873 - mae: 2.7474\n",
            "Epoch 56/150\n",
            "25/25 [==============================] - 1s 33ms/step - loss: 2.2100 - mae: 2.6686\n",
            "Epoch 57/150\n",
            "25/25 [==============================] - 1s 32ms/step - loss: 2.2514 - mae: 2.7106\n",
            "Epoch 58/150\n",
            "25/25 [==============================] - 1s 33ms/step - loss: 2.3304 - mae: 2.7914\n",
            "Epoch 59/150\n",
            "25/25 [==============================] - 1s 33ms/step - loss: 2.2490 - mae: 2.7067\n",
            "Epoch 60/150\n",
            "25/25 [==============================] - 1s 33ms/step - loss: 2.3316 - mae: 2.7920\n",
            "Epoch 61/150\n",
            "25/25 [==============================] - 1s 33ms/step - loss: 2.2319 - mae: 2.6903\n",
            "Epoch 62/150\n",
            "25/25 [==============================] - 1s 33ms/step - loss: 2.2677 - mae: 2.7273\n",
            "Epoch 63/150\n",
            "25/25 [==============================] - 1s 33ms/step - loss: 2.2384 - mae: 2.6977\n",
            "Epoch 64/150\n",
            "25/25 [==============================] - 1s 32ms/step - loss: 2.2386 - mae: 2.6979\n",
            "Epoch 65/150\n",
            "25/25 [==============================] - 1s 32ms/step - loss: 2.2307 - mae: 2.6884\n",
            "Epoch 66/150\n",
            "25/25 [==============================] - 1s 33ms/step - loss: 2.2210 - mae: 2.6791\n",
            "Epoch 67/150\n",
            "25/25 [==============================] - 1s 33ms/step - loss: 2.2427 - mae: 2.7022\n",
            "Epoch 68/150\n",
            "25/25 [==============================] - 1s 33ms/step - loss: 2.3327 - mae: 2.7949\n",
            "Epoch 69/150\n",
            "25/25 [==============================] - 1s 32ms/step - loss: 2.2260 - mae: 2.6846\n",
            "Epoch 70/150\n",
            "25/25 [==============================] - 1s 33ms/step - loss: 2.2149 - mae: 2.6738\n",
            "Epoch 71/150\n",
            "25/25 [==============================] - 1s 32ms/step - loss: 2.2656 - mae: 2.7252\n",
            "Epoch 72/150\n",
            "25/25 [==============================] - 1s 33ms/step - loss: 2.2078 - mae: 2.6658\n",
            "Epoch 73/150\n",
            "25/25 [==============================] - 1s 35ms/step - loss: 2.2150 - mae: 2.6734\n",
            "Epoch 74/150\n",
            "25/25 [==============================] - 1s 34ms/step - loss: 2.2910 - mae: 2.7510\n",
            "Epoch 75/150\n",
            "25/25 [==============================] - 1s 33ms/step - loss: 2.3299 - mae: 2.7906\n",
            "Epoch 76/150\n",
            "25/25 [==============================] - 1s 32ms/step - loss: 2.2569 - mae: 2.7174\n",
            "Epoch 77/150\n",
            "25/25 [==============================] - 1s 33ms/step - loss: 2.1964 - mae: 2.6535\n",
            "Epoch 78/150\n",
            "25/25 [==============================] - 1s 35ms/step - loss: 2.2664 - mae: 2.7255\n",
            "Epoch 79/150\n",
            "25/25 [==============================] - 1s 33ms/step - loss: 2.2047 - mae: 2.6624\n",
            "Epoch 80/150\n",
            "25/25 [==============================] - 1s 33ms/step - loss: 2.2337 - mae: 2.6928\n",
            "Epoch 81/150\n",
            "25/25 [==============================] - 1s 34ms/step - loss: 2.2299 - mae: 2.6898\n",
            "Epoch 82/150\n",
            "25/25 [==============================] - 1s 35ms/step - loss: 2.2292 - mae: 2.6883\n",
            "Epoch 83/150\n",
            "25/25 [==============================] - 1s 34ms/step - loss: 2.2030 - mae: 2.6610\n",
            "Epoch 84/150\n",
            "25/25 [==============================] - 1s 35ms/step - loss: 2.3062 - mae: 2.7673\n",
            "Epoch 85/150\n",
            "25/25 [==============================] - 1s 34ms/step - loss: 2.2195 - mae: 2.6777\n",
            "Epoch 86/150\n",
            "25/25 [==============================] - 1s 33ms/step - loss: 2.2385 - mae: 2.6971\n",
            "Epoch 87/150\n",
            "25/25 [==============================] - 1s 33ms/step - loss: 2.3315 - mae: 2.7912\n",
            "Epoch 88/150\n",
            "25/25 [==============================] - 1s 33ms/step - loss: 2.2151 - mae: 2.6737\n",
            "Epoch 89/150\n",
            "25/25 [==============================] - 1s 34ms/step - loss: 2.1937 - mae: 2.6515\n",
            "Epoch 90/150\n",
            "25/25 [==============================] - 1s 33ms/step - loss: 2.2107 - mae: 2.6693\n",
            "Epoch 91/150\n",
            "25/25 [==============================] - 1s 34ms/step - loss: 2.2457 - mae: 2.7038\n",
            "Epoch 92/150\n",
            "25/25 [==============================] - 1s 34ms/step - loss: 2.3409 - mae: 2.8028\n",
            "Epoch 93/150\n",
            "25/25 [==============================] - 1s 34ms/step - loss: 2.2260 - mae: 2.6837\n",
            "Epoch 94/150\n",
            "25/25 [==============================] - 1s 34ms/step - loss: 2.2745 - mae: 2.7335\n",
            "Epoch 95/150\n",
            "25/25 [==============================] - 1s 32ms/step - loss: 2.2845 - mae: 2.7437\n",
            "Epoch 96/150\n",
            "25/25 [==============================] - 1s 33ms/step - loss: 2.2288 - mae: 2.6879\n",
            "Epoch 97/150\n",
            "25/25 [==============================] - 1s 34ms/step - loss: 2.2219 - mae: 2.6794\n",
            "Epoch 98/150\n",
            "25/25 [==============================] - 1s 34ms/step - loss: 2.2010 - mae: 2.6581\n",
            "Epoch 99/150\n",
            "25/25 [==============================] - 1s 33ms/step - loss: 2.2226 - mae: 2.6816\n",
            "Epoch 100/150\n",
            "25/25 [==============================] - 1s 33ms/step - loss: 2.2849 - mae: 2.7444\n",
            "Epoch 101/150\n",
            "25/25 [==============================] - 1s 33ms/step - loss: 2.2624 - mae: 2.7227\n",
            "Epoch 102/150\n",
            "25/25 [==============================] - 1s 34ms/step - loss: 2.2418 - mae: 2.7014\n",
            "Epoch 103/150\n",
            "25/25 [==============================] - 1s 33ms/step - loss: 2.2213 - mae: 2.6791\n",
            "Epoch 104/150\n",
            "25/25 [==============================] - 1s 33ms/step - loss: 2.2541 - mae: 2.7117\n",
            "Epoch 105/150\n",
            "25/25 [==============================] - 1s 33ms/step - loss: 2.2753 - mae: 2.7361\n",
            "Epoch 106/150\n",
            "25/25 [==============================] - 1s 33ms/step - loss: 2.3034 - mae: 2.7631\n",
            "Epoch 107/150\n",
            "25/25 [==============================] - 1s 33ms/step - loss: 2.2699 - mae: 2.7304\n",
            "Epoch 108/150\n",
            "25/25 [==============================] - 1s 33ms/step - loss: 2.2101 - mae: 2.6687\n",
            "Epoch 109/150\n",
            "25/25 [==============================] - 1s 33ms/step - loss: 2.2542 - mae: 2.7145\n",
            "Epoch 110/150\n",
            "25/25 [==============================] - 1s 34ms/step - loss: 2.2336 - mae: 2.6923\n",
            "Epoch 111/150\n",
            "25/25 [==============================] - 1s 33ms/step - loss: 2.2164 - mae: 2.6749\n",
            "Epoch 112/150\n",
            "25/25 [==============================] - 1s 33ms/step - loss: 2.1939 - mae: 2.6508\n",
            "Epoch 113/150\n",
            "25/25 [==============================] - 1s 33ms/step - loss: 2.2227 - mae: 2.6807\n",
            "Epoch 114/150\n",
            "25/25 [==============================] - 1s 33ms/step - loss: 2.2343 - mae: 2.6938\n",
            "Epoch 115/150\n",
            "25/25 [==============================] - 1s 33ms/step - loss: 2.4034 - mae: 2.8667\n",
            "Epoch 116/150\n",
            "25/25 [==============================] - 1s 33ms/step - loss: 2.2183 - mae: 2.6756\n",
            "Epoch 117/150\n",
            "25/25 [==============================] - 1s 34ms/step - loss: 2.2191 - mae: 2.6777\n",
            "Epoch 118/150\n",
            "25/25 [==============================] - 1s 34ms/step - loss: 2.2254 - mae: 2.6834\n",
            "Epoch 119/150\n",
            "25/25 [==============================] - 1s 35ms/step - loss: 2.2615 - mae: 2.7210\n",
            "Epoch 120/150\n",
            "25/25 [==============================] - 1s 33ms/step - loss: 2.1902 - mae: 2.6473\n",
            "Epoch 121/150\n",
            "25/25 [==============================] - 1s 33ms/step - loss: 2.2134 - mae: 2.6722\n",
            "Epoch 122/150\n",
            "25/25 [==============================] - 1s 35ms/step - loss: 2.2246 - mae: 2.6827\n",
            "Epoch 123/150\n",
            "25/25 [==============================] - 1s 34ms/step - loss: 2.2074 - mae: 2.6648\n",
            "Epoch 124/150\n",
            "25/25 [==============================] - 1s 34ms/step - loss: 2.2179 - mae: 2.6771\n",
            "Epoch 125/150\n",
            "25/25 [==============================] - 1s 32ms/step - loss: 2.2711 - mae: 2.7308\n",
            "Epoch 126/150\n",
            "25/25 [==============================] - 1s 34ms/step - loss: 2.2780 - mae: 2.7371\n",
            "Epoch 127/150\n",
            "25/25 [==============================] - 1s 33ms/step - loss: 2.2397 - mae: 2.6981\n",
            "Epoch 128/150\n",
            "25/25 [==============================] - 1s 34ms/step - loss: 2.2411 - mae: 2.7000\n",
            "Epoch 129/150\n",
            "25/25 [==============================] - 1s 34ms/step - loss: 2.2637 - mae: 2.7237\n",
            "Epoch 130/150\n",
            "25/25 [==============================] - 1s 34ms/step - loss: 2.3560 - mae: 2.8170\n",
            "Epoch 131/150\n",
            "25/25 [==============================] - 1s 34ms/step - loss: 2.2499 - mae: 2.7096\n",
            "Epoch 132/150\n",
            "25/25 [==============================] - 1s 34ms/step - loss: 2.2347 - mae: 2.6940\n",
            "Epoch 133/150\n",
            "25/25 [==============================] - 1s 32ms/step - loss: 2.1983 - mae: 2.6569\n",
            "Epoch 134/150\n",
            "25/25 [==============================] - 1s 34ms/step - loss: 2.2697 - mae: 2.7289\n",
            "Epoch 135/150\n",
            "25/25 [==============================] - 1s 33ms/step - loss: 2.2465 - mae: 2.7060\n",
            "Epoch 136/150\n",
            "25/25 [==============================] - 1s 35ms/step - loss: 2.3015 - mae: 2.7613\n",
            "Epoch 137/150\n",
            "25/25 [==============================] - 1s 35ms/step - loss: 2.2449 - mae: 2.7035\n",
            "Epoch 138/150\n",
            "25/25 [==============================] - 1s 34ms/step - loss: 2.2138 - mae: 2.6713\n",
            "Epoch 139/150\n",
            "25/25 [==============================] - 1s 34ms/step - loss: 2.2097 - mae: 2.6686\n",
            "Epoch 140/150\n",
            "25/25 [==============================] - 1s 33ms/step - loss: 2.2261 - mae: 2.6844\n",
            "Epoch 141/150\n",
            "25/25 [==============================] - 1s 33ms/step - loss: 2.2374 - mae: 2.6960\n",
            "Epoch 142/150\n",
            "25/25 [==============================] - 1s 32ms/step - loss: 2.2515 - mae: 2.7113\n",
            "Epoch 143/150\n",
            "25/25 [==============================] - 1s 33ms/step - loss: 2.2499 - mae: 2.7096\n",
            "Epoch 144/150\n",
            "25/25 [==============================] - 1s 34ms/step - loss: 2.2167 - mae: 2.6751\n",
            "Epoch 145/150\n",
            "25/25 [==============================] - 1s 34ms/step - loss: 2.2646 - mae: 2.7232\n",
            "Epoch 146/150\n",
            "25/25 [==============================] - 1s 34ms/step - loss: 2.1951 - mae: 2.6524\n",
            "Epoch 147/150\n",
            "25/25 [==============================] - 1s 33ms/step - loss: 2.2404 - mae: 2.6990\n",
            "Epoch 148/150\n",
            "25/25 [==============================] - 1s 32ms/step - loss: 2.2022 - mae: 2.6607\n",
            "Epoch 149/150\n",
            "25/25 [==============================] - 1s 33ms/step - loss: 2.2663 - mae: 2.7258\n",
            "Epoch 150/150\n",
            "25/25 [==============================] - 1s 33ms/step - loss: 2.3152 - mae: 2.7765\n"
          ]
        }
      ]
    },
    {
      "cell_type": "code",
      "metadata": {
        "id": "wDs5raDpUE0G"
      },
      "source": [
        "rnn_forecast=model_forecast(model,series[...,np.newaxis],window_size)\n",
        "rnn_forecast=rnn_forecast[split_time-window_size:-1,-1,0]"
      ],
      "execution_count": 18,
      "outputs": []
    },
    {
      "cell_type": "code",
      "metadata": {
        "colab": {
          "base_uri": "https://localhost:8080/",
          "height": 389
        },
        "id": "s0R2tlzlUxU9",
        "outputId": "7fc16d14-02b8-4b7b-c74a-6b992e69261f"
      },
      "source": [
        "plt.figure(figsize=(10, 6))\n",
        "plot_series(time_valid, x_valid)\n",
        "plot_series(time_valid, rnn_forecast)"
      ],
      "execution_count": 19,
      "outputs": [
        {
          "output_type": "display_data",
          "data": {
            "image/png": "[encoded data removed]",
            "text/plain": [
              "<Figure size 720x432 with 1 Axes>"
            ]
          },
          "metadata": {
            "needs_background": "light"
          }
        }
      ]
    },
    {
      "cell_type": "code",
      "metadata": {
        "colab": {
          "base_uri": "https://localhost:8080/"
        },
        "id": "6PYkSe-GVOPz",
        "outputId": "c3326011-b598-4cf9-a36c-cf806df9b858"
      },
      "source": [
        "tf.keras.metrics.mean_absolute_error(x_valid, rnn_forecast).numpy()"
      ],
      "execution_count": 20,
      "outputs": [
        {
          "output_type": "execute_result",
          "data": {
            "text/plain": [
              "2.1684148"
            ]
          },
          "metadata": {},
          "execution_count": 20
        }
      ]
    },
    {
      "cell_type": "code",
      "metadata": {
        "colab": {
          "base_uri": "https://localhost:8080/"
        },
        "id": "HrNLwtfEVgGQ",
        "outputId": "53f6cc3e-647e-49fb-9bf5-6b49d7ddc21b"
      },
      "source": [
        "print(rnn_forecast)"
      ],
      "execution_count": 21,
      "outputs": [
        {
          "output_type": "stream",
          "name": "stdout",
          "text": [
            "[12.392141  12.295079  12.045473  ... 12.769349  12.6591835 12.793848 ]\n"
          ]
        }
      ]
    },
    {
      "cell_type": "code",
      "metadata": {
        "id": "XTP1V1aLYO5b"
      },
      "source": [
        ""
      ],
      "execution_count": null,
      "outputs": []
    }
  ]
}